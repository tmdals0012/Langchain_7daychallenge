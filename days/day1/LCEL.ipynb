{
 "cells": [
  {
   "cell_type": "code",
   "execution_count": 3,
   "metadata": {},
   "outputs": [],
   "source": [
    "from dotenv import load_dotenv\n",
    "import os\n",
    "\n",
    "load_dotenv()\n",
    "\n",
    "OPENAI_API_KEY=os.getenv(\"OPENAI_API_KEY\")"
   ]
  },
  {
   "cell_type": "code",
   "execution_count": 4,
   "metadata": {},
   "outputs": [
    {
     "name": "stdout",
     "output_type": "stream",
     "text": [
      "content='Hello! How can I assist you today?' additional_kwargs={'refusal': None} response_metadata={'token_usage': {'completion_tokens': 9, 'prompt_tokens': 8, 'total_tokens': 17, 'completion_tokens_details': {'accepted_prediction_tokens': 0, 'audio_tokens': 0, 'reasoning_tokens': 0, 'rejected_prediction_tokens': 0}, 'prompt_tokens_details': {'audio_tokens': 0, 'cached_tokens': 0}}, 'model_name': 'gpt-4o-mini-2024-07-18', 'system_fingerprint': 'fp_560af6e559', 'id': 'chatcmpl-CJeRA2Z3wzWy5PkTdZCyqGj6SDhHf', 'service_tier': 'default', 'finish_reason': 'stop', 'logprobs': None} id='run--92198563-ef4c-4a29-a62c-fb170f14000f-0' usage_metadata={'input_tokens': 8, 'output_tokens': 9, 'total_tokens': 17, 'input_token_details': {'audio': 0, 'cache_read': 0}, 'output_token_details': {'audio': 0, 'reasoning': 0}}\n"
     ]
    }
   ],
   "source": [
    "from langchain_openai import ChatOpenAI\n",
    "\n",
    "chat = ChatOpenAI(\n",
    "    model=\"gpt-4o-mini-2024-07-18\"\n",
    ")\n",
    "\n",
    "print(chat.invoke(\"hi\"))"
   ]
  },
  {
   "cell_type": "code",
   "execution_count": 5,
   "metadata": {},
   "outputs": [],
   "source": [
    "from langchain_openai import ChatOpenAI\n",
    "\n",
    "chat =ChatOpenAI(\n",
    "    model=\"gpt-4o-mini-2024-07-18\",\n",
    "    temperature=0.1\n",
    ")"
   ]
  },
  {
   "cell_type": "code",
   "execution_count": 6,
   "metadata": {},
   "outputs": [
    {
     "name": "stderr",
     "output_type": "stream",
     "text": [
      "C:\\Users\\Administrator\\AppData\\Local\\Temp\\ipykernel_11452\\1908388660.py:15: LangChainDeprecationWarning: The method `BaseChatModel.predict_messages` was deprecated in langchain-core 0.1.7 and will be removed in 1.0. Use :meth:`~invoke` instead.\n",
      "  chat.predict_messages(messages=messages)\n"
     ]
    },
    {
     "data": {
      "text/plain": [
       "AIMessage(content='죄송하지만, {country_a}와 {country_b}의 거리를 알려면 구체적인 국가 이름이 필요해요. 그리고 제 이름은 {name}입니다!', additional_kwargs={'refusal': None}, response_metadata={'token_usage': {'completion_tokens': 37, 'prompt_tokens': 59, 'total_tokens': 96, 'completion_tokens_details': {'accepted_prediction_tokens': 0, 'audio_tokens': 0, 'reasoning_tokens': 0, 'rejected_prediction_tokens': 0}, 'prompt_tokens_details': {'audio_tokens': 0, 'cached_tokens': 0}}, 'model_name': 'gpt-4o-mini-2024-07-18', 'system_fingerprint': 'fp_560af6e559', 'id': 'chatcmpl-CJeRBE8hsUGgcxFtf89cTc5pwiSLr', 'service_tier': 'default', 'finish_reason': 'stop', 'logprobs': None}, id='run--fb12b383-37b1-46b6-a43d-af97bc815b46-0', usage_metadata={'input_tokens': 59, 'output_tokens': 37, 'total_tokens': 96, 'input_token_details': {'audio': 0, 'cache_read': 0}, 'output_token_details': {'audio': 0, 'reasoning': 0}})"
      ]
     },
     "execution_count": 6,
     "metadata": {},
     "output_type": "execute_result"
    }
   ],
   "source": [
    "from langchain.schema import HumanMessage, AIMessage, SystemMessage\n",
    "\n",
    "messages = [\n",
    "    SystemMessage(\n",
    "        content=\"You are a geography expert. And you only reply in {language}\"\n",
    "    ),\n",
    "    AIMessage(\n",
    "        content=\"안녕, 난 {name}야!\"\n",
    "    ),\n",
    "    HumanMessage(\n",
    "        content=\"What is the distance between {country_a} and {country_b}. Also, what is your name?\"\n",
    "    )\n",
    "]\n",
    "\n",
    "chat.predict_messages(messages=messages)"
   ]
  },
  {
   "cell_type": "code",
   "execution_count": 7,
   "metadata": {},
   "outputs": [
    {
     "name": "stdout",
     "output_type": "stream",
     "text": [
      "content=\"The distance between Korea and Japan varies depending on the specific locations being measured. The shortest distance is between the Korean Peninsula and the Japanese island of Tsushima, which is approximately 50 kilometers (about 31 miles) across the Korea Strait. \\n\\nIf you're considering the distance from the South Korean capital, Seoul, to Tokyo, Japan, it is roughly 1,150 kilometers (about 715 miles) when traveling by air. The distance can vary based on the specific cities or regions being compared.\" additional_kwargs={'refusal': None} response_metadata={'token_usage': {'completion_tokens': 100, 'prompt_tokens': 15, 'total_tokens': 115, 'completion_tokens_details': {'accepted_prediction_tokens': 0, 'audio_tokens': 0, 'reasoning_tokens': 0, 'rejected_prediction_tokens': 0}, 'prompt_tokens_details': {'audio_tokens': 0, 'cached_tokens': 0}}, 'model_name': 'gpt-4o-mini-2024-07-18', 'system_fingerprint': 'fp_560af6e559', 'id': 'chatcmpl-CJeRD3bVgy5NTY77c9bJGyD0yQaQp', 'service_tier': 'default', 'finish_reason': 'stop', 'logprobs': None} id='run--c4e2639f-65ff-499d-87a7-edb091f469b5-0' usage_metadata={'input_tokens': 15, 'output_tokens': 100, 'total_tokens': 115, 'input_token_details': {'audio': 0, 'cache_read': 0}, 'output_token_details': {'audio': 0, 'reasoning': 0}}\n"
     ]
    }
   ],
   "source": [
    "from langchain_openai import ChatOpenAI\n",
    "from langchain_core.prompts import PromptTemplate, ChatPromptTemplate\n",
    "\n",
    "# OpenAI LLM 설정\n",
    "chat = ChatOpenAI(\n",
    "    model=\"gpt-4o-mini\",\n",
    "    temperature=0.1\n",
    ")\n",
    "\n",
    "# 프롬프트 템플릿 생성\n",
    "template = PromptTemplate.from_template(\n",
    "    \"What is the distance between {country_a} and {country_b}\"\n",
    ")\n",
    "\n",
    "# 템플릿에 값 채워넣기\n",
    "prompt = template.format(country_a=\"korea\", country_b=\"Japan\")\n",
    "\n",
    "print(chat.invoke(prompt))\n"
   ]
  },
  {
   "cell_type": "code",
   "execution_count": 8,
   "metadata": {},
   "outputs": [
    {
     "data": {
      "text/plain": [
       "AIMessage(content='스페인과 이탈리아 사이의 거리는 약 1,500킬로미터입니다. 제 이름은 AI입니다. 도움이 필요하시면 말씀해 주세요!', additional_kwargs={'refusal': None}, response_metadata={'token_usage': {'completion_tokens': 36, 'prompt_tokens': 54, 'total_tokens': 90, 'completion_tokens_details': {'accepted_prediction_tokens': 0, 'audio_tokens': 0, 'reasoning_tokens': 0, 'rejected_prediction_tokens': 0}, 'prompt_tokens_details': {'audio_tokens': 0, 'cached_tokens': 0}}, 'model_name': 'gpt-4o-mini-2024-07-18', 'system_fingerprint': 'fp_560af6e559', 'id': 'chatcmpl-CJeRFDchfDz4mfD36AREUDmjEg9ML', 'service_tier': 'default', 'finish_reason': 'stop', 'logprobs': None}, id='run--62016111-2393-487e-ba7d-6d88956bd3d6-0', usage_metadata={'input_tokens': 54, 'output_tokens': 36, 'total_tokens': 90, 'input_token_details': {'audio': 0, 'cache_read': 0}, 'output_token_details': {'audio': 0, 'reasoning': 0}})"
      ]
     },
     "execution_count": 8,
     "metadata": {},
     "output_type": "execute_result"
    }
   ],
   "source": [
    "template = ChatPromptTemplate.from_messages(\n",
    "    [\n",
    "        (\"system\", \"You are a geograhy expert. And you only replay in {langauge}\"),\n",
    "        (\"ai\", \"ciao, mi chiamo {name}!\"),\n",
    "        (\n",
    "            \"human\",\n",
    "            \"What is the distance between {country_a} and {country_b}. Also, what is your name?\"\n",
    "        )\n",
    "    ]\n",
    ")\n",
    "\n",
    "prompt = template.format_messages(\n",
    "    langauge=\"Korean\",\n",
    "    name=\"kimsm\",\n",
    "    country_a=\"Spain\",\n",
    "    country_b=\"Italia\"\n",
    ")\n",
    "\n",
    "chat.invoke(prompt)"
   ]
  },
  {
   "cell_type": "code",
   "execution_count": 9,
   "metadata": {},
   "outputs": [],
   "source": [
    "#Output Parser\n",
    "\n",
    "from langchain_openai import ChatOpenAI\n",
    "from langchain_core.prompts import ChatPromptTemplate\n",
    "\n",
    "chat = ChatOpenAI(\n",
    "    model=\"gpt-4o-mini\",\n",
    "    temperature=0.1\n",
    ")"
   ]
  },
  {
   "cell_type": "code",
   "execution_count": 10,
   "metadata": {},
   "outputs": [],
   "source": [
    "from langchain.schema import BaseOutputParser\n",
    "\n",
    "class CommaOutputParser(BaseOutputParser):\n",
    "    def parse(self, text):\n",
    "        items = text.strip().split(\",\")\n",
    "        return list(map(str.strip, items))"
   ]
  },
  {
   "cell_type": "code",
   "execution_count": 11,
   "metadata": {},
   "outputs": [],
   "source": [
    "template = ChatPromptTemplate.from_messages(\n",
    "    [\n",
    "        (\n",
    "            \"system\",\n",
    "            \"You are a list generating machine. Everything you are asked will be answered with a comma separated list of max {max_items} in lowercase. DO NOT reply anything else.\"\n",
    "        ),\n",
    "        (\"human\", \"{question}\")\n",
    "    ]\n",
    ")"
   ]
  },
  {
   "cell_type": "code",
   "execution_count": 12,
   "metadata": {},
   "outputs": [
    {
     "data": {
      "text/plain": [
       "['pikachu', 'bulbasaur', 'charmander', 'squirtle', 'jigglypuff']"
      ]
     },
     "execution_count": 12,
     "metadata": {},
     "output_type": "execute_result"
    }
   ],
   "source": [
    "chain = template | chat | CommaOutputParser()\n",
    "\n",
    "chain.invoke(\n",
    "    {\n",
    "        \"max_items\" : 5,\n",
    "        \"question\" : \"What atre the pokemions?\"\n",
    "    }\n",
    ")"
   ]
  },
  {
   "cell_type": "code",
   "execution_count": 13,
   "metadata": {},
   "outputs": [],
   "source": [
    "from langchain_openai import ChatOpenAI\n",
    "from langchain_core.prompts import ChatPromptTemplate\n",
    "from langchain.callbacks import StreamingStdOutCallbackHandler\n",
    "\n",
    "chat = ChatOpenAI(\n",
    "    temperature =0.1,\n",
    "    streaming = True,\n",
    "    callbacks = [StreamingStdOutCallbackHandler()]\n",
    ")\n",
    "\n",
    "chef_prompt = ChatPromptTemplate.from_messages(\n",
    "    [\n",
    "        (\n",
    "            \"system\",\n",
    "            \"\",\n",
    "        ),\n",
    "        (\n",
    "            \"human\", \"I want to cook {cuisine} food.\"\n",
    "        )\n",
    "    ]\n",
    ")\n",
    "\n",
    "chef_chain = chef_prompt | chat"
   ]
  },
  {
   "cell_type": "code",
   "execution_count": 14,
   "metadata": {},
   "outputs": [
    {
     "name": "stdout",
     "output_type": "stream",
     "text": [
      "That's great! Italian cuisine is known for its delicious flavors and variety of dishes. Here are a few classic Italian recipes you can try:\n",
      "\n",
      "1. Spaghetti Carbonara: A simple yet flavorful pasta dish made with spaghetti, eggs, pancetta, and cheese.\n",
      "\n",
      "2. Margherita Pizza: A classic pizza topped with tomato sauce, fresh mozzarella, basil, and a drizzle of olive oil.\n",
      "\n",
      "3. Risotto alla Milanese: Creamy and rich risotto flavored with saffron, butter, and Parmesan cheese.\n",
      "\n",
      "4. Eggplant Parmesan: Layers of breaded and fried eggplant slices, marinara sauce, and cheese, baked until bubbly and golden.\n",
      "\n",
      "5. Tiramisu: A popular Italian dessert made with layers of coffee-soaked ladyfingers and mascarpone cheese, dusted with cocoa powder.\n",
      "\n",
      "These are just a few ideas to get you started. Enjoy your Italian cooking adventure!I'm excited to help you make these classic Italian recipes vegetarian-friendly! Here are some alternative ingredients and preparation tips:\n",
      "\n",
      "1. **Spaghetti Carbonara**:\n",
      "   - Replace pancetta with vegetarian bacon or smoked tofu strips for a smoky flavor.\n",
      "   - Use plant-based cheese or nutritional yeast as a substitute for Parmesan cheese.\n",
      "   - Make sure to use free-range or organic eggs if you include them in your diet.\n",
      "\n",
      "2. **Margherita Pizza**:\n",
      "   - Opt for vegan mozzarella or cashew cheese for a dairy-free alternative.\n",
      "   - You can add roasted cherry tomatoes or marinated artichoke hearts for extra flavor.\n",
      "\n",
      "3. **Risotto alla Milanese**:\n",
      "   - Use vegetable broth instead of chicken broth for a vegetarian version.\n",
      "   - Saffron is a key ingredient in this dish, so make sure to use high-quality saffron threads for the best flavor.\n",
      "\n",
      "4. **Eggplant Parmesan**:\n",
      "   - Instead of traditional Parmesan cheese, try a blend of nutritional yeast and breadcrumbs for a cheesy topping.\n",
      "   - You can also bake the eggplant slices instead of frying them for a healthier twist.\n",
      "\n",
      "5. **Tiramisu**:\n",
      "   - Substitute mascarpone cheese with a mixture of vegan cream cheese and coconut cream for a creamy layer.\n",
      "   - Look for vegan ladyfingers or make your own using plant-based ingredients.\n",
      "\n",
      "I hope these tips help you recreate these Italian classics in a vegetarian version. Enjoy your cooking adventure!"
     ]
    },
    {
     "data": {
      "text/plain": [
       "AIMessage(content=\"I'm excited to help you make these classic Italian recipes vegetarian-friendly! Here are some alternative ingredients and preparation tips:\\n\\n1. **Spaghetti Carbonara**:\\n   - Replace pancetta with vegetarian bacon or smoked tofu strips for a smoky flavor.\\n   - Use plant-based cheese or nutritional yeast as a substitute for Parmesan cheese.\\n   - Make sure to use free-range or organic eggs if you include them in your diet.\\n\\n2. **Margherita Pizza**:\\n   - Opt for vegan mozzarella or cashew cheese for a dairy-free alternative.\\n   - You can add roasted cherry tomatoes or marinated artichoke hearts for extra flavor.\\n\\n3. **Risotto alla Milanese**:\\n   - Use vegetable broth instead of chicken broth for a vegetarian version.\\n   - Saffron is a key ingredient in this dish, so make sure to use high-quality saffron threads for the best flavor.\\n\\n4. **Eggplant Parmesan**:\\n   - Instead of traditional Parmesan cheese, try a blend of nutritional yeast and breadcrumbs for a cheesy topping.\\n   - You can also bake the eggplant slices instead of frying them for a healthier twist.\\n\\n5. **Tiramisu**:\\n   - Substitute mascarpone cheese with a mixture of vegan cream cheese and coconut cream for a creamy layer.\\n   - Look for vegan ladyfingers or make your own using plant-based ingredients.\\n\\nI hope these tips help you recreate these Italian classics in a vegetarian version. Enjoy your cooking adventure!\", additional_kwargs={}, response_metadata={'finish_reason': 'stop', 'model_name': 'gpt-3.5-turbo-0125', 'service_tier': 'default'}, id='run--828c11b6-a42e-4fb0-8987-8663368660f7-0')"
      ]
     },
     "execution_count": 14,
     "metadata": {},
     "output_type": "execute_result"
    }
   ],
   "source": [
    "veg_chef_prompt = ChatPromptTemplate.from_messages(\n",
    "    [\n",
    "        (\n",
    "            \"system\",\n",
    "            \"You are a vegetarian chef specialized on making traditional recipies vegetarian. You find alternative ingredients and explain their preparation. You don't radically modify the recipe. If there is no alternative for a food just say you don't know how to replace it.\"\n",
    "        ),\n",
    "        (\"human\", \"{recipe}\")\n",
    "    ]\n",
    ")\n",
    "\n",
    "veg_chain = veg_chef_prompt | chat\n",
    "\n",
    "final_chain = chef_chain | veg_chain\n",
    "\n",
    "final_chain.invoke(\n",
    "    {\n",
    "        \"cuisine\" : \"Italian\"\n",
    "    }\n",
    ")"
   ]
  },
  {
   "cell_type": "code",
   "execution_count": null,
   "metadata": {},
   "outputs": [],
   "source": []
  }
 ],
 "metadata": {
  "kernelspec": {
   "display_name": ".venv",
   "language": "python",
   "name": "python3"
  },
  "language_info": {
   "codemirror_mode": {
    "name": "ipython",
    "version": 3
   },
   "file_extension": ".py",
   "mimetype": "text/x-python",
   "name": "python",
   "nbconvert_exporter": "python",
   "pygments_lexer": "ipython3",
   "version": "3.11.9"
  }
 },
 "nbformat": 4,
 "nbformat_minor": 2
}
